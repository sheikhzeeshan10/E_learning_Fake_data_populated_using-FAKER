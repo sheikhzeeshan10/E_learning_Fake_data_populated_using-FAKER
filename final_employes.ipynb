{
 "cells": [
  {
   "cell_type": "code",
   "execution_count": 5,
   "id": "c70ab0ad",
   "metadata": {},
   "outputs": [],
   "source": [
    "#Import the packages \n",
    "#import csv, sqlite3\n",
    "from faker import Faker \n",
    "from pydbgen import pydbgen\n",
    "import pandas as pd \n",
    "import random\n",
    "import datetime\n",
    "from datetime import date\n",
    "from sqlalchemy import create_engine\n"
   ]
  },
  {
   "cell_type": "code",
   "execution_count": 6,
   "id": "52ea0d42",
   "metadata": {},
   "outputs": [
    {
     "name": "stdout",
     "output_type": "stream",
     "text": [
      "Enter number of rows to be generated:60\n",
      "2022-08-01 14:11:34,919 INFO sqlalchemy.engine.Engine PRAGMA main.table_info(\"Employers_Users\")\n",
      "2022-08-01 14:11:34,919 INFO sqlalchemy.engine.Engine [raw sql] ()\n",
      "2022-08-01 14:11:34,921 INFO sqlalchemy.engine.Engine INSERT INTO \"Employers_Users\" (\"Employer_Number\", \"Username\", \"Level\", \"Creation_date\", \"Password\") VALUES (?, ?, ?, ?, ?)\n",
      "2022-08-01 14:11:34,922 INFO sqlalchemy.engine.Engine [generated in 0.00091s] (('638-55-4922', 'kendra00', 'Intermediate', '2022-08-01', '#m*4(Q6nve'), ('369-30-9419', 'daviskimberly', 'Intermediate', '2022-08-01', 'de7BGRUk+2'), ('480-66-2144', 'clarktammy', 'Intermediate', '2022-08-01', 'daNKl)S3#6'), ('421-22-6425', 'sotojacob', 'Intermediate', '2022-08-01', '#r67S6wDl6'), ('317-01-2056', 'vazquezcraig', 'Professional', '2022-08-01', 'e66pF+pG*M'), ('716-91-2562', 'ericawatts', 'Professional', '2022-08-01', '6Lc!59Wu%+'), ('792-63-2455', 'abrown', 'Beginner', '2022-08-01', '$f5OWbW471'), ('125-05-4336', 'ehill', 'Beginner', '2022-08-01', 'n5OZt2Ly&&')  ... displaying 10 of 60 total bound parameter sets ...  ('407-77-0948', 'timothy70', 'Intermediate', '2022-08-01', '@tX$at(u9X'), ('073-40-9361', 'jacobmullen', 'Intermediate', '2022-08-01', 'Z0*4WZ+uyz'))\n",
      "2022-08-01 14:11:34,923 INFO sqlalchemy.engine.Engine COMMIT\n",
      "2022-08-01 14:11:34,935 INFO sqlalchemy.engine.Engine SELECT name FROM sqlite_master WHERE type='table' ORDER BY name\n",
      "2022-08-01 14:11:34,936 INFO sqlalchemy.engine.Engine [raw sql] ()\n",
      "Data successfully Generated and Inserted!\n"
     ]
    }
   ],
   "source": [
    "def users_table(no_of_rows):\n",
    "    \n",
    "    fake = Faker()\n",
    "    ourDB= pydbgen.pydb()    \n",
    "    df = pd.DataFrame(([fake.profile() for i in range(no_of_rows)]))\n",
    "    df_new = df.iloc[:, [2,7]]    \n",
    "    level = ('Beginner','Intermediate','Professional')    \n",
    "    df_new.loc[:, ('ssn','username')]\n",
    "    df_new = df_new.rename(columns={'ssn': 'Employer_Number','username':'Username'})    \n",
    "    lvl= []\n",
    "    pwd = []\n",
    "    for i in range(len(df_new.Employer_Number)): \n",
    "        lvl.append(random.choice(level))\n",
    "        pwd.append(fake.password())\n",
    "    save_df = df_new.assign(Level= lvl,Creation_date=date.today(),Password = pwd)\n",
    "    save_db(save_df)\n",
    "\n",
    "\n",
    "def save_db(save_df):\n",
    "    \n",
    "    engine = create_engine('sqlite:///olearn.db', echo=True)\n",
    "    sqlite_connection = engine.connect()\n",
    "    \n",
    "    sqlite_table = \"Employers_Users\"\n",
    "    save_df.to_sql(sqlite_table, sqlite_connection, if_exists='append', index=False)\n",
    "    \n",
    "    sqlite_connection.close()\n",
    "    print(\"Data for users is successfully Generated and Inserted!\")\n",
    "\n",
    "no_of_rows = input('Enter number of rows to be generated:')\n",
    "users_table(int(no_of_rows))\n"
   ]
  },
  {
   "cell_type": "code",
   "execution_count": null,
   "id": "98833056",
   "metadata": {},
   "outputs": [],
   "source": []
  }
 ],
 "metadata": {
  "kernelspec": {
   "display_name": "Python 3 (ipykernel)",
   "language": "python",
   "name": "python3"
  },
  "language_info": {
   "codemirror_mode": {
    "name": "ipython",
    "version": 3
   },
   "file_extension": ".py",
   "mimetype": "text/x-python",
   "name": "python",
   "nbconvert_exporter": "python",
   "pygments_lexer": "ipython3",
   "version": "3.10.4"
  }
 },
 "nbformat": 4,
 "nbformat_minor": 5
}
