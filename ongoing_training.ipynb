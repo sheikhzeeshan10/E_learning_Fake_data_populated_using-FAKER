{
 "cells": [
  {
   "cell_type": "code",
   "execution_count": 1,
   "id": "80954bfc",
   "metadata": {},
   "outputs": [],
   "source": [
    "from faker import Faker \n",
    "import pandas as pd \n",
    "import random\n",
    "import datetime\n",
    "from datetime import date\n",
    "from sqlalchemy import create_engine\n",
    "import sqlite3\n",
    "from datetime import datetime\n"
   ]
  },
  {
   "cell_type": "code",
   "execution_count": 8,
   "id": "94b15a47",
   "metadata": {},
   "outputs": [
    {
     "name": "stdout",
     "output_type": "stream",
     "text": [
      "2022-08-03 18:15:45,308 INFO sqlalchemy.engine.Engine PRAGMA main.table_info(\"Ongoing_Training\")\n",
      "2022-08-03 18:15:45,308 INFO sqlalchemy.engine.Engine [raw sql] ()\n",
      "2022-08-03 18:15:45,310 INFO sqlalchemy.engine.Engine INSERT INTO \"Ongoing_Training\" (\"Training_ID\", \"User_ID\", \"Course_ID\", \"Status\", \"Completion_Percentage\", \"Start_Date\", \"Finish_Date\", \"Last_Update\") VALUES (?, ?, ?, ?, ?, ?, ?, ?)\n",
      "2022-08-03 18:15:45,310 INFO sqlalchemy.engine.Engine [generated in 0.00046s] ('Occu28-922', 13590, 'F729-70-94', 'Pending', '60%', '2017-02-22', '2020-04-22', '2022-03-07')\n",
      "2022-08-03 18:15:45,311 INFO sqlalchemy.engine.Engine COMMIT\n",
      "2022-08-03 18:15:45,312 INFO sqlalchemy.engine.Engine SELECT name FROM sqlite_master WHERE type='table' ORDER BY name\n",
      "2022-08-03 18:15:45,313 INFO sqlalchemy.engine.Engine [raw sql] ()\n",
      "Ongoing Training Data successfully Generated and Inserted!\n"
     ]
    }
   ],
   "source": [
    "\n",
    "def ongoing_training(no_of_rows):\n",
    "    fake = Faker()\n",
    "    df = pd.DataFrame(([fake.profile() for i in range(no_of_rows)]))  #Generating Raw data  \n",
    "    df['job'] = df.job.str.slice(0, 4)\n",
    "    df['ssn'] = df.ssn.str.slice(4, 10)\n",
    "    df['Training_ID']= df['job'].astype(str)+ df['ssn']         #generating Training ID by slicing and mixing few columns     \n",
    "    df = df.iloc[:, [13]]\n",
    "\n",
    "    # Create a SQL connection to our SQLite database\n",
    "    con = sqlite3.connect('olearn.db')\n",
    "    cur = con.cursor()\n",
    "    CourseID = []\n",
    "    UserID = []\n",
    "\n",
    "    for row in cur.execute('SELECT Course_ID FROM Course;'):\n",
    "        CourseID.append(row)               #Fetching Course ID from User's tabel\n",
    "    for row1 in cur.execute('SELECT User_ID FROM Employers_Users;'):\n",
    "        UserID.append(row1)                #Fetching User ID from User's tabel\n",
    "\n",
    "    CourseID = [item for t in CourseID for item in t]     #converting list of tuples into LIST\n",
    "    UserID = [item for t in UserID for item in t]        #converting list of tuples into LIST\n",
    "\n",
    "    status = ('Completed','Pending')\n",
    "    completion_per = ('9%','60%','87%','30%','22%','3%','100%','60%')\n",
    "    start_date = []\n",
    "    comp_date  = []\n",
    "    last_up = []\n",
    "    userid_rand = []\n",
    "    course_rand = []\n",
    "    comp_per_rand = []\n",
    "    status_rand = []\n",
    "\n",
    "    for i in range(no_of_rows):\n",
    "        start_date.append(fake.date_between_dates(date_start=datetime(2016,1,1), date_end=datetime(2018,12,31)))\n",
    "        comp_date.append(fake.date_between_dates(date_start=datetime(2019,5,1), date_end=datetime(2021,12,31)))\n",
    "        last_up.append(fake.date_between_dates(date_start=datetime(2021,12,31), date_end='now'))\n",
    "        userid_rand.append(random.choice(UserID)) \n",
    "        course_rand.append(random.choice(CourseID))\n",
    "        comp_per_rand.append(random.choice(completion_per))\n",
    "        status_rand.append(random.choice(status))\n",
    "\n",
    "    final_df = df.assign(User_ID = userid_rand, Course_ID = course_rand, Status = status_rand , \n",
    "    Completion_Percentage = comp_per_rand, Start_Date = start_date, Finish_Date = comp_date, Last_Update = last_up)\n",
    "    save_db3(final_df)\n",
    "\n",
    "def save_db3(final_df): \n",
    "    engine = create_engine('sqlite:///olearn.db', echo=True)\n",
    "    sqlite_connection = engine.connect()\n",
    "\n",
    "    sqlite_table = \"Ongoing_Training\"\n",
    "    final_df.to_sql(sqlite_table, sqlite_connection, if_exists='append', index=False)\n",
    "\n",
    "    sqlite_connection.close()\n",
    "    print(\"Ongoing Training Data successfully Generated and Inserted!\")    \n",
    "    \n",
    "\n",
    "no_of_rows = input('Enter number of rows to be generated:')\n",
    "ongoing_training(int(no_of_rows))"
   ]
  },
  {
   "cell_type": "code",
   "execution_count": null,
   "id": "e5ff7e5f",
   "metadata": {},
   "outputs": [],
   "source": []
  }
 ],
 "metadata": {
  "kernelspec": {
   "display_name": "Python 3 (ipykernel)",
   "language": "python",
   "name": "python3"
  },
  "language_info": {
   "codemirror_mode": {
    "name": "ipython",
    "version": 3
   },
   "file_extension": ".py",
   "mimetype": "text/x-python",
   "name": "python",
   "nbconvert_exporter": "python",
   "pygments_lexer": "ipython3",
   "version": "3.10.4"
  }
 },
 "nbformat": 4,
 "nbformat_minor": 5
}
