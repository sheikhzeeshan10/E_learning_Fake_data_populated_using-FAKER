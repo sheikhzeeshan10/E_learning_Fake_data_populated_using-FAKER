{
 "cells": [
  {
   "cell_type": "code",
   "execution_count": 1,
   "id": "80954bfc",
   "metadata": {},
   "outputs": [],
   "source": [
    "from faker import Faker \n",
    "import pandas as pd \n",
    "import random\n",
    "import datetime\n",
    "from datetime import date\n",
    "from sqlalchemy import create_engine\n",
    "import sqlite3\n",
    "from datetime import datetime\n"
   ]
  },
  {
   "cell_type": "code",
   "execution_count": 3,
   "id": "94b15a47",
   "metadata": {},
   "outputs": [
    {
     "name": "stdout",
     "output_type": "stream",
     "text": [
      "Enter number of rows to be generated:5\n",
      "2022-08-04 12:22:30,742 INFO sqlalchemy.engine.Engine PRAGMA main.table_info(\"certification_ID\")\n",
      "2022-08-04 12:22:30,743 INFO sqlalchemy.engine.Engine [raw sql] ()\n",
      "2022-08-04 12:22:30,744 INFO sqlalchemy.engine.Engine INSERT INTO \"certification_ID\" (\"Certification_ID\", \"User_ID\", \"Course_ID\", \"Completion_Duration\", \"Completion_Date\") VALUES (?, ?, ?, ?, ?)\n",
      "2022-08-04 12:22:30,745 INFO sqlalchemy.engine.Engine [generated in 0.00054s] (('Fo-96-300', 13599, 'M893-39-67', '702das', '2022-02-03'), ('Pr-18-721', 13560, 'M378-83-61', '610days', '2022-01-12'), ('Su-42-809', 13586, 'M068-22-68', '589days', '2022-06-04'), ('Co-19-264', 13578, 'M034-95-97', '702das', '2022-03-23'), ('Nu-46-757', 13557, 'M080-05-83', '702das', '2022-01-02'))\n",
      "2022-08-04 12:22:30,745 INFO sqlalchemy.engine.Engine COMMIT\n",
      "2022-08-04 12:22:30,757 INFO sqlalchemy.engine.Engine SELECT name FROM sqlite_master WHERE type='table' ORDER BY name\n",
      "2022-08-04 12:22:30,757 INFO sqlalchemy.engine.Engine [raw sql] ()\n",
      "Certification Data successfully Generated and Inserted!\n"
     ]
    }
   ],
   "source": [
    "\n",
    "\n",
    "def certificates(no_of_rows):\n",
    "    fake = Faker()\n",
    "    df = pd.DataFrame(([fake.profile() for i in range(no_of_rows)]))  #Generating Raw data  \n",
    "    df['job'] = df.job.str.slice(0, 2)\n",
    "    df['ssn'] = df.ssn.str.slice(3, 10)\n",
    "    df['Certification_ID']= df['job'].astype(str)+ df['ssn']         #generating Training ID by slicing and mixing few columns     \n",
    "    df = df.iloc[:, [13]]\n",
    "\n",
    "    # Create a SQL connection to our SQLite database\n",
    "    con = sqlite3.connect('olearn.db')\n",
    "    cur = con.cursor()\n",
    "    CourseID = []\n",
    "    UserID = []\n",
    "\n",
    "\n",
    "    for row in cur.execute('SELECT Course_ID FROM Course;'):\n",
    "        CourseID.append(row)               #Fetching Course ID from User's tabel\n",
    "    for row1 in cur.execute('SELECT User_ID FROM Employers_Users;'):\n",
    "        UserID.append(row1)                #Fetching User ID from User's tabel  \n",
    "\n",
    "    CourseID = [item for t in CourseID for item in t]     #converting list of tuples into LIST\n",
    "    UserID = [item for t in UserID for item in t]        #converting list of tuples into LIST\n",
    "\n",
    "    completion_dur = ('400days','610days','365days','589days','458days','301days','629days','702das')\n",
    "    comp_date  = []       \n",
    "    userid_rand = []\n",
    "    course_rand = []\n",
    "    comp_dur_rand = []\n",
    "\n",
    "\n",
    "    for i in range(no_of_rows):\n",
    "        comp_date.append(fake.date_between_dates(date_start=datetime(2021,12,31), date_end='now'))\n",
    "        userid_rand.append(random.choice(UserID)) \n",
    "        course_rand.append(random.choice(CourseID))\n",
    "        comp_dur_rand.append(random.choice(completion_dur))\n",
    "\n",
    "    final_df_ = df.assign(User_ID = userid_rand, Course_ID = course_rand, Completion_Duration = comp_dur_rand, \n",
    "    Completion_Date = comp_date)\n",
    "    save_db4(final_df_)\n",
    "\n",
    "\n",
    "def save_db4(final_df_):\n",
    "\n",
    "    engine = create_engine('sqlite:///olearn.db', echo=True)\n",
    "    sqlite_connection = engine.connect()\n",
    "\n",
    "    sqlite_table = \"certification_ID\"\n",
    "    final_df_.to_sql(sqlite_table, sqlite_connection, if_exists='append', index=False)\n",
    "\n",
    "    sqlite_connection.close()\n",
    "    print(\"Certification Data successfully Generated and Inserted!\")    \n",
    "\n",
    "    \n",
    "no_of_rows = input('Enter number of rows to be generated:')\n",
    "certificates(int(no_of_rows))"
   ]
  },
  {
   "cell_type": "code",
   "execution_count": null,
   "id": "71199e81",
   "metadata": {},
   "outputs": [],
   "source": []
  }
 ],
 "metadata": {
  "kernelspec": {
   "display_name": "Python 3 (ipykernel)",
   "language": "python",
   "name": "python3"
  },
  "language_info": {
   "codemirror_mode": {
    "name": "ipython",
    "version": 3
   },
   "file_extension": ".py",
   "mimetype": "text/x-python",
   "name": "python",
   "nbconvert_exporter": "python",
   "pygments_lexer": "ipython3",
   "version": "3.10.4"
  }
 },
 "nbformat": 4,
 "nbformat_minor": 5
}
