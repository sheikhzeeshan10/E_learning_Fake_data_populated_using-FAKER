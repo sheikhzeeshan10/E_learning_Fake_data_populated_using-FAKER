{
 "cells": [
  {
   "cell_type": "code",
   "execution_count": 1,
   "metadata": {},
   "outputs": [],
   "source": [
    "from faker import Faker \n",
    "import pandas as pd \n",
    "import random\n",
    "import datetime\n",
    "from datetime import date\n",
    "from sqlalchemy import create_engine\n",
    "import sqlite3\n",
    "from pydbgen import pydbgen\n",
    "from datetime import datetime\n"
   ]
  },
  {
   "cell_type": "markdown",
   "metadata": {},
   "source": [
    "# Insertion Function with different parameters For Each Table With missing parameters (column values) as well"
   ]
  },
  {
   "cell_type": "code",
   "execution_count": 2,
   "metadata": {},
   "outputs": [
    {
     "name": "stdout",
     "output_type": "stream",
     "text": [
      "Choose the table number you want to insert data:\n",
      " 1- User-Employers \n",
      " 2- Course \n",
      " 3- Review \n",
      " 4- Certification ID \n",
      " 5- Ongoing Training \n",
      "4\n",
      "Opened database successfully\n",
      "certification_ID new row inserted successfully\n"
     ]
    }
   ],
   "source": [
    "#!/usr/bin/python\n",
    "\n",
    "import sqlite3\n",
    "\n",
    "\n",
    "def data(db,table_name,no,Uname,U_ID,C_ID):\n",
    "    \n",
    "    conn = sqlite3.connect(db)\n",
    "    print (\"Opened database successfully\");\n",
    "    \n",
    "    ad = (no,date.today(),Uname,\"pd6a654ss\",\"TEST\")\n",
    "    ad1 = (no,Uname,'TEST-IK','2222h',date.today(),'Test-Tag')\n",
    "    ad3 = (U_ID,C_ID,'Test-Satisfied')\n",
    "    ad4 = ('CPP-TTEST',U_ID,C_ID,'4444days',date.today())\n",
    "    ad5 = ('CP-TEST',U_ID,C_ID,'Completed','50%','2017-02-14')\n",
    "    \n",
    "    if table_name == 'Employers_Users' :\n",
    "    \n",
    "        conn.execute('''INSERT INTO '''+table_name+''' \n",
    "                    (Employer_Number, Creation_date, Username, Password, Level)\n",
    "                    VALUES (? ,? , ? , ? , ?)''', ad)\n",
    "        conn.commit()\n",
    "\n",
    "        \n",
    "    elif table_name == 'Course' :\n",
    "    \n",
    "        conn.execute('''INSERT INTO '''+table_name+''' \n",
    "                    (Course_ID, Course_Name, Platform_ID, Duration, Creation_Date, Tags)\n",
    "                    VALUES (? ,? ,? , ? , ? , ?)''', ad1)\n",
    "        conn.commit()\n",
    "\n",
    "        \n",
    "    elif table_name == 'Review' :\n",
    "    \n",
    "        conn.execute('''INSERT INTO '''+table_name+''' \n",
    "                    (User_ID, Course_ID, Feedback)\n",
    "                    VALUES (? ,? , ? )''', ad3)\n",
    "        conn.commit()\n",
    " \n",
    "        \n",
    "    elif table_name == 'certification_ID' :\n",
    "    \n",
    "        conn.execute('''INSERT INTO '''+table_name+''' \n",
    "                    (Certification_ID, User_ID, Course_ID, Completion_Duration, Completion_Date)\n",
    "                    VALUES (? ,? , ? , ? , ?)''', ad4)\n",
    "        conn.commit()\n",
    "\n",
    "        \n",
    "    elif table_name == 'Ongoing_Training' :\n",
    "    \n",
    "        conn.execute('''INSERT INTO '''+table_name+''' \n",
    "                    (Training_ID, User_ID, Course_ID, Status, Completion_Percentage, 'Start_Date')\n",
    "                    VALUES (? , ? ,? , ? , ? , ? )''', ad5)\n",
    "        conn.commit()\n",
    "\n",
    "        \n",
    "    else:\n",
    "        print(\"Error 202!\")\n",
    "    \n",
    "    \n",
    "    conn.close()\n",
    "    print (table_name +\" new row inserted successfully\"); \n",
    "\n",
    "\n",
    "def main():\n",
    "    db = 'olearn.db'\n",
    "    table_val = input('Choose the table number you want to insert data:\\n 1- User-Employers \\n 2- Course \\n 3- Review \\n 4- Certification ID \\n 5- Ongoing Training \\n') \n",
    "    if table_val == '1':\n",
    "        table_name = 'Employers_Users' \n",
    "    elif table_val == '2':\n",
    "        table_name = 'Course'\n",
    "    elif table_val == '3':\n",
    "        table_name = 'Review'\n",
    "    elif table_val == '4':\n",
    "        table_name = 'certification_ID'\n",
    "    elif table_val == '5':\n",
    "        table_name = 'Ongoing_Training'\n",
    "    else:\n",
    "        print('No such table in databse')\n",
    "        \n",
    "    Uname = \"tedst1\"\n",
    "    no = '1-te2st'\n",
    "    U_ID = '2111'\n",
    "    C_ID = 'CAPZX'\n",
    "    data(db,table_name,no,Uname,U_ID,C_ID)\n",
    "\n",
    "if __name__==\"__main__\":\n",
    "    main()\n"
   ]
  },
  {
   "cell_type": "code",
   "execution_count": null,
   "metadata": {},
   "outputs": [],
   "source": []
  }
 ],
 "metadata": {
  "kernelspec": {
   "display_name": "Python 3 (ipykernel)",
   "language": "python",
   "name": "python3"
  },
  "language_info": {
   "codemirror_mode": {
    "name": "ipython",
    "version": 3
   },
   "file_extension": ".py",
   "mimetype": "text/x-python",
   "name": "python",
   "nbconvert_exporter": "python",
   "pygments_lexer": "ipython3",
   "version": "3.10.4"
  }
 },
 "nbformat": 4,
 "nbformat_minor": 2
}
