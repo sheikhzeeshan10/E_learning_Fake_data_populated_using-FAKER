{
 "cells": [
  {
   "cell_type": "code",
   "execution_count": 1,
   "id": "80954bfc",
   "metadata": {},
   "outputs": [],
   "source": [
    "from faker import Faker \n",
    "import pandas as pd \n",
    "import random\n",
    "import datetime\n",
    "from datetime import date\n",
    "from sqlalchemy import create_engine\n",
    "import sqlite3\n",
    "from datetime import datetime\n"
   ]
  },
  {
   "cell_type": "code",
   "execution_count": 9,
   "id": "94b15a47",
   "metadata": {},
   "outputs": [
    {
     "name": "stdout",
     "output_type": "stream",
     "text": [
      "Enter number of rows to be generated:10\n",
      "2022-08-04 11:48:07,864 INFO sqlalchemy.engine.Engine PRAGMA main.table_info(\"Review\")\n",
      "2022-08-04 11:48:07,864 INFO sqlalchemy.engine.Engine [raw sql] ()\n",
      "2022-08-04 11:48:07,866 INFO sqlalchemy.engine.Engine INSERT INTO \"Review\" (\"User_ID\", \"Course_ID\", \"Feedback\", \"Ranking_Score\") VALUES (?, ?, ?, ?)\n",
      "2022-08-04 11:48:07,866 INFO sqlalchemy.engine.Engine [generated in 0.00036s] ((13577, 'F088-62-14', 'Satisfied', '4'), (13550, 'F299-15-31', 'Needs Improvement!', '2'), (13571, 'M019-68-55', 'Somehow Satisfied', '3'), (13583, 'F095-92-94', 'Obsolete!', '1'), (13575, 'M139-51-68', 'Needs Improvement!', '2'), (13559, 'F192-30-97', 'Satisfied', '4'), (13562, 'F823-59-74', 'Needs Improvement!', '2'), (13577, 'F816-52-91', 'Somehow Satisfied', '3'), (13599, 'M718-46-67', 'Very Satisfied', '5'), (13597, 'F799-25-37', 'Very Satisfied', '5'))\n",
      "2022-08-04 11:48:07,867 INFO sqlalchemy.engine.Engine COMMIT\n",
      "2022-08-04 11:48:07,879 INFO sqlalchemy.engine.Engine SELECT name FROM sqlite_master WHERE type='table' ORDER BY name\n",
      "2022-08-04 11:48:07,880 INFO sqlalchemy.engine.Engine [raw sql] ()\n",
      "Reviews Data successfully Generated and Inserted!\n"
     ]
    }
   ],
   "source": [
    "no_of_rows = 30\n",
    "\n",
    "def Reviews(no_of_rows):     \n",
    "    fake = Faker()\n",
    "\n",
    "    # Create a SQL connection to our SQLite database\n",
    "    con = sqlite3.connect('olearn.db')\n",
    "    cur = con.cursor()\n",
    "    CourseID = []\n",
    "    UserID = []\n",
    "\n",
    "\n",
    "    for row in cur.execute('SELECT Course_ID FROM Course;'):\n",
    "        CourseID.append(row)               #Fetching Course ID from User's tabel\n",
    "    for row1 in cur.execute('SELECT User_ID FROM Employers_Users;'):\n",
    "        UserID.append(row1)                #Fetching User ID from User's tabel  \n",
    "    con.close()\n",
    "    CourseID = [item for t in CourseID for item in t]     #converting list of tuples into LIST\n",
    "    UserID = [item for t in UserID for item in t]        #converting list of tuples into LIST\n",
    "\n",
    "    feedbk = ('Satisfied','Very Satisfied','Somehow Satisfied','Needs Improvement!','Obsolete!')\n",
    "\n",
    "    ranking = ('1','2','3','4','5')\n",
    "\n",
    "    userid_rand = []\n",
    "    course_rand = []\n",
    "    feedbk_rand = []\n",
    "    ranking_rand = []\n",
    "    inp_feedbk = []\n",
    "\n",
    "    for i in range(no_of_rows):\n",
    "\n",
    "        userid_rand.append(random.choice(UserID)) \n",
    "        course_rand.append(random.choice(CourseID))\n",
    "        inp_feedbk = random.choice(feedbk)\n",
    "        feedbk_rand.append(inp_feedbk)    \n",
    "        #ranking_rand.append(random.choice(ranking))\n",
    "        if inp_feedbk == 'Obsolete!':\n",
    "            ranking_rand.append('1')\n",
    "        elif inp_feedbk == 'Needs Improvement!':\n",
    "            ranking_rand.append('2')\n",
    "        elif inp_feedbk == 'Somehow Satisfied':\n",
    "            ranking_rand.append('3')\n",
    "        elif inp_feedbk == 'Satisfied':\n",
    "            ranking_rand.append('4')\n",
    "        else: #random.choice(feedbk) == 'Very Satisfied':\n",
    "            ranking_rand.append('5')\n",
    "    #print(ranking_rand)\n",
    "    df = pd.DataFrame()\n",
    "    final_dff = df.assign(User_ID = userid_rand, Course_ID = course_rand, Feedback = feedbk_rand, \n",
    "    Ranking_Score = ranking_rand)\n",
    "    db_save_5(final_dff)\n",
    "\n",
    "    \n",
    "def db_save_5(final_dff):\n",
    "    engine = create_engine('sqlite:///olearn.db', echo=True)\n",
    "    sqlite_connection = engine.connect()\n",
    "\n",
    "    sqlite_table = \"Review\"\n",
    "    final_dff.to_sql(sqlite_table, sqlite_connection, if_exists='append', index=False)\n",
    "\n",
    "    sqlite_connection.close()\n",
    "    print(\"Reviews Data successfully Generated and Inserted!\")    \n",
    "\n",
    "    \n",
    "no_of_rows = input('Enter number of rows to be generated:')\n",
    "Reviews(int(no_of_rows))\n"
   ]
  },
  {
   "cell_type": "code",
   "execution_count": null,
   "id": "811e468f",
   "metadata": {},
   "outputs": [],
   "source": []
  },
  {
   "cell_type": "code",
   "execution_count": null,
   "id": "1123a405",
   "metadata": {},
   "outputs": [],
   "source": [
    "# --FOR Review CREATING TRIGGER -> Like/Dislike\n",
    " \n",
    "#CREATE TRIGGER dislike_\n",
    "#AFTER INSERT ON Review\n",
    "#\tBEGIN\n",
    "#\t\t UPDATE Review SET Like_Dislike = \"Dislike\" WHERE Feedback LIKE \"%!\";\n",
    "#\tEND;\n",
    "\n",
    "#CREATE TRIGGER like_\n",
    "#AFTER INSERT ON Review\n",
    "#\tBEGIN\n",
    "#\t\t UPDATE Review SET Like_Dislike = \"Like\" WHERE Feedback LIKE \"%Satisfied%\";\n",
    "#\tEND;\n"
   ]
  }
 ],
 "metadata": {
  "kernelspec": {
   "display_name": "Python 3 (ipykernel)",
   "language": "python",
   "name": "python3"
  },
  "language_info": {
   "codemirror_mode": {
    "name": "ipython",
    "version": 3
   },
   "file_extension": ".py",
   "mimetype": "text/x-python",
   "name": "python",
   "nbconvert_exporter": "python",
   "pygments_lexer": "ipython3",
   "version": "3.10.4"
  }
 },
 "nbformat": 4,
 "nbformat_minor": 5
}
