{
 "cells": [
  {
   "cell_type": "code",
   "execution_count": 1,
   "id": "80954bfc",
   "metadata": {},
   "outputs": [],
   "source": [
    "from faker import Faker \n",
    "from pydbgen import pydbgen\n",
    "import pandas as pd \n",
    "import random\n",
    "import datetime\n",
    "from datetime import date\n",
    "from sqlalchemy import create_engine"
   ]
  },
  {
   "cell_type": "code",
   "execution_count": 2,
   "id": "94b15a47",
   "metadata": {},
   "outputs": [
    {
     "name": "stdout",
     "output_type": "stream",
     "text": [
      "Enter number of rows to be generated:10\n",
      "2022-08-04 00:12:58,282 INFO sqlalchemy.engine.Engine PRAGMA main.table_info(\"Course\")\n",
      "2022-08-04 00:12:58,283 INFO sqlalchemy.engine.Engine [raw sql] ()\n",
      "2022-08-04 00:12:58,285 INFO sqlalchemy.engine.Engine INSERT INTO \"Course\" (\"Course_Name\", \"Course_ID\", \"Platform_ID\", \"Duration\", \"Creation_Date\", \"Tags\", \"Photo\") VALUES (?, ?, ?, ?, ?, ?, ?)\n",
      "2022-08-04 00:12:58,285 INFO sqlalchemy.engine.Engine [generated in 0.00052s] (('Air broker', 'F563-15-19', 'IK02', '480h 00m', '2022-08-04', 'Agent opportunity economy board us sign.', 'http://stephens-ortega.net/'), ('Engineer, maintenance', 'F550-60-98', 'IK01', '550h 00m', '2022-08-04', 'Movement first price.', 'http://www.shepherd.com/'), ('Chartered certified accountant', 'M391-74-10', 'IK02', '202h', '2022-08-04', 'Fact away half call.', 'http://harvey.com/'), ('Pension scheme manager', 'M427-05-75', 'IK02', '480h 00m', '2022-08-04', 'Let may including century current human.', 'https://nelson.com/'), ('Radiographer, therapeutic', 'M217-26-49', 'IK02', '300h 45m', '2022-08-04', 'Trial tend try.', 'http://brown.com/'), ('Charity officer', 'M528-26-92', 'IK02', '202h', '2022-08-04', 'Hour back son discussion drop space.', 'http://baker.com/'), ('Video editor', 'M470-27-14', 'IK02', '550h 00m', '2022-08-04', 'Investment put close population manager many.', 'https://www.tate.org/'), ('Architectural technologist', 'F009-59-26', 'IK03', '100h', '2022-08-04', 'Short front wrong treat.', 'https://price.com/'), ('Chief Strategy Officer', 'F763-72-36', 'IK01', '480h 00m', '2022-08-04', 'Ability education authority character music.', 'https://thompson.com/'), ('Theme park manager', 'M888-28-39', 'IK03', '490h 45m', '2022-08-04', 'Bar back show.', 'http://www.hernandez-burnett.info/'))\n",
      "2022-08-04 00:12:58,286 INFO sqlalchemy.engine.Engine COMMIT\n",
      "2022-08-04 00:12:58,298 INFO sqlalchemy.engine.Engine SELECT name FROM sqlite_master WHERE type='table' ORDER BY name\n",
      "2022-08-04 00:12:58,298 INFO sqlalchemy.engine.Engine [raw sql] ()\n",
      "Data for courses is successfully Generated and Inserted!\n"
     ]
    }
   ],
   "source": [
    "def courses(no_of_rows,d_now):\n",
    "    fake = Faker()\n",
    "    \n",
    "    df = pd.DataFrame(([fake.profile() for i in range(no_of_rows)]))  #Generating Raw data \n",
    "    df[\"CourseID\"] = df['sex'].astype(str)+ df[\"ssn\"]         #generating course ID by slicing and mixing few columns\n",
    "    df['CourseID'] =df.CourseID.str.slice(0, 10)       #only first time can generate unique course_id's upto 1000's       \n",
    "    df2 = df['CourseID']\n",
    "    df2 = df.iloc[:, [0]]                                      #taking job as Course_Name\n",
    "    plt = []\n",
    "    duration_ = []\n",
    "    u = []\n",
    "    tgs = []\n",
    "    platform = ('IK01','IK02','IK03')\n",
    "    dur = ('202h','490h 45m','600h 00m','300h 45m','550h 00m','480h 00m','450h', '100h')\n",
    "    for i in range(len(df2.job)): \n",
    "        plt.append(random.choice(platform)) \n",
    "        duration_.append(random.choice(dur)) \n",
    "        tgs.append(fake.sentence())       \n",
    "        u.append(fake.url())\n",
    "    d = df2.assign(Course_ID=df['CourseID'], Platform_ID = plt, Duration = duration_,Creation_Date = d_now , Tags = tgs, Photo = u)\n",
    "    df3 = d.rename(columns={'job': 'Course_Name'})         #renaming column\n",
    "    save_db1(df3)\n",
    "    \n",
    "def save_db1(df3):\n",
    "    engine = create_engine('sqlite:///olearn.db', echo=True)\n",
    "    sqlite_connection = engine.connect()\n",
    "\n",
    "    sqlite_table = \"Course\"\n",
    "    df3.to_sql(sqlite_table, sqlite_connection, if_exists='append', index=False)\n",
    "\n",
    "    sqlite_connection.close()\n",
    "    print(\"Data for courses is successfully Generated and Inserted!\")\n",
    "   \n",
    "    \n",
    "x = input('Enter number of rows to be generated:')\n",
    "y = date.today() \n",
    "courses(int(x),y)"
   ]
  },
  {
   "cell_type": "code",
   "execution_count": null,
   "id": "bcd9aa4b",
   "metadata": {},
   "outputs": [],
   "source": []
  },
  {
   "cell_type": "code",
   "execution_count": null,
   "id": "aa331d81",
   "metadata": {},
   "outputs": [],
   "source": []
  },
  {
   "cell_type": "code",
   "execution_count": null,
   "id": "f6791d71",
   "metadata": {},
   "outputs": [],
   "source": []
  },
  {
   "cell_type": "code",
   "execution_count": null,
   "id": "4ce52cfb",
   "metadata": {},
   "outputs": [],
   "source": []
  },
  {
   "cell_type": "code",
   "execution_count": null,
   "id": "fc3d17fd",
   "metadata": {},
   "outputs": [],
   "source": []
  },
  {
   "cell_type": "code",
   "execution_count": null,
   "id": "19f45a6f",
   "metadata": {},
   "outputs": [],
   "source": []
  },
  {
   "cell_type": "code",
   "execution_count": null,
   "id": "4c0b3e64",
   "metadata": {},
   "outputs": [],
   "source": []
  },
  {
   "cell_type": "code",
   "execution_count": null,
   "id": "2b3d5aec",
   "metadata": {},
   "outputs": [],
   "source": []
  }
 ],
 "metadata": {
  "kernelspec": {
   "display_name": "Python 3 (ipykernel)",
   "language": "python",
   "name": "python3"
  },
  "language_info": {
   "codemirror_mode": {
    "name": "ipython",
    "version": 3
   },
   "file_extension": ".py",
   "mimetype": "text/x-python",
   "name": "python",
   "nbconvert_exporter": "python",
   "pygments_lexer": "ipython3",
   "version": "3.10.4"
  }
 },
 "nbformat": 4,
 "nbformat_minor": 5
}
