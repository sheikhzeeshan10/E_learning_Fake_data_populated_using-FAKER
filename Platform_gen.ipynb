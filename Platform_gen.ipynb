{
 "cells": [
  {
   "cell_type": "code",
   "execution_count": 1,
   "id": "0b82a181",
   "metadata": {},
   "outputs": [],
   "source": [
    "import pandas as pd\n",
    "from sqlalchemy import create_engine"
   ]
  },
  {
   "cell_type": "code",
   "execution_count": 3,
   "id": "18a8a910",
   "metadata": {},
   "outputs": [
    {
     "name": "stdout",
     "output_type": "stream",
     "text": [
      "2022-08-02 10:48:31,139 INFO sqlalchemy.engine.Engine PRAGMA main.table_info(\"Platform\")\n",
      "2022-08-02 10:48:31,140 INFO sqlalchemy.engine.Engine [raw sql] ()\n",
      "2022-08-02 10:48:31,141 INFO sqlalchemy.engine.Engine INSERT INTO \"Platform\" (\"Platform_ID\", \"Platform_Name\", \"Hyperlink_Path\") VALUES (?, ?, ?)\n",
      "2022-08-02 10:48:31,142 INFO sqlalchemy.engine.Engine [generated in 0.00056s] (('IK01', 'Coursera', 'https://www.coursera.org/'), ('IK02', 'Udemy', 'https://www.udemy.com/'), ('IK03', 'LinkedIn', 'https://www.linkedin.com/learning/'))\n",
      "2022-08-02 10:48:31,143 INFO sqlalchemy.engine.Engine COMMIT\n",
      "2022-08-02 10:48:31,151 INFO sqlalchemy.engine.Engine SELECT name FROM sqlite_master WHERE type='table' ORDER BY name\n",
      "2022-08-02 10:48:31,152 INFO sqlalchemy.engine.Engine [raw sql] ()\n",
      "Data successfully Generated and Inserted!\n"
     ]
    }
   ],
   "source": [
    "\n",
    "def save_db1(df):\n",
    "    engine = create_engine('sqlite:///olearn.db', echo=True)\n",
    "    sqlite_connection = engine.connect()\n",
    "\n",
    "    sqlite_table = \"Platform\"\n",
    "    df.to_sql(sqlite_table, sqlite_connection, if_exists='append', index=False)\n",
    "\n",
    "    sqlite_connection.close()\n",
    "    print(\"Data for Plaform is  successfully Generated and Inserted!\")\n",
    "    \n",
    "\n",
    "#creting main Platforms with necessary details just to make sure data generated should be meaningful\n",
    "data = {'Platform_ID': ['IK01','IK02','IK03'],\n",
    "        'Platform_Name': ['Coursera', 'Udemy', 'LinkedIn'],\n",
    "        'Hyperlink_Path': ['https://www.coursera.org/', 'https://www.udemy.com/', 'https://www.linkedin.com/learning/']}\n",
    "    \n",
    "df = pd.DataFrame(data)\n",
    "save_db1(df)"
   ]
  },
  {
   "cell_type": "code",
   "execution_count": null,
   "id": "33124f8f",
   "metadata": {},
   "outputs": [],
   "source": []
  },
  {
   "cell_type": "markdown",
   "id": "63d52c8c",
   "metadata": {},
   "source": [
    "# Query for Creating Trigger which counts and saves the number of Courses on respective platforms"
   ]
  },
  {
   "cell_type": "code",
   "execution_count": null,
   "id": "769dbb63",
   "metadata": {},
   "outputs": [],
   "source": [
    "#CREATE TRIGGER Course_count\n",
    "#AFTER INSERT ON Course\n",
    "#\tBEGIN\n",
    "#\t\tUPDATE Platform SET Course = Course + 1\tWHERE Platform_ID= NEW.Platform_ID;\n",
    "#\tEND;"
   ]
  }
 ],
 "metadata": {
  "kernelspec": {
   "display_name": "Python 3 (ipykernel)",
   "language": "python",
   "name": "python3"
  },
  "language_info": {
   "codemirror_mode": {
    "name": "ipython",
    "version": 3
   },
   "file_extension": ".py",
   "mimetype": "text/x-python",
   "name": "python",
   "nbconvert_exporter": "python",
   "pygments_lexer": "ipython3",
   "version": "3.10.4"
  }
 },
 "nbformat": 4,
 "nbformat_minor": 5
}
