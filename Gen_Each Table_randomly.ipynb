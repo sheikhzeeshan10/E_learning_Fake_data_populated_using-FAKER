{
 "cells": [
  {
   "cell_type": "code",
   "execution_count": 23,
   "id": "8736bb14",
   "metadata": {},
   "outputs": [],
   "source": [
    "from faker import Faker \n",
    "import pandas as pd \n",
    "import random\n",
    "import datetime\n",
    "from datetime import date\n",
    "from sqlalchemy import create_engine\n",
    "import sqlite3\n",
    "from pydbgen import pydbgen\n",
    "from datetime import datetime\n"
   ]
  },
  {
   "cell_type": "markdown",
   "id": "f20dfcdf",
   "metadata": {},
   "source": [
    "# Creting Platforms with necessary details just to make sure data generated should be meaningful further data -> number of courses will be calculated and inserted with the help of trigger."
   ]
  },
  {
   "cell_type": "code",
   "execution_count": null,
   "id": "65d79bb8",
   "metadata": {},
   "outputs": [],
   "source": [
    "\n",
    "def save_db1(df):\n",
    "    engine = create_engine('sqlite:///olearn.db', echo=True)\n",
    "    sqlite_connection = engine.connect()\n",
    "\n",
    "    sqlite_table = \"Platform\"\n",
    "    df.to_sql(sqlite_table, sqlite_connection, if_exists='append', index=False)\n",
    "\n",
    "    sqlite_connection.close()\n",
    "    print(\"Data for Plaform is  successfully Generated and Inserted!\")\n",
    "    \n",
    "\n",
    "#creting main Platforms with necessary details just to make sure data generated should be meaningful\n",
    "data = {'Platform_ID': ['IK01','IK02','IK03'],\n",
    "        'Platform_Name': ['Coursera', 'Udemy', 'LinkedIn'],\n",
    "        'Hyperlink_Path': ['https://www.coursera.org/', 'https://www.udemy.com/', 'https://www.linkedin.com/learning/']}\n",
    "    \n",
    "df = pd.DataFrame(data)\n",
    "save_db1(df)"
   ]
  },
  {
   "cell_type": "code",
   "execution_count": null,
   "id": "820dc3a0",
   "metadata": {},
   "outputs": [],
   "source": []
  },
  {
   "cell_type": "markdown",
   "id": "e536bef2",
   "metadata": {},
   "source": [
    "# Query for Creating Trigger which counts and saves the number of Courses on respective platforms"
   ]
  },
  {
   "cell_type": "code",
   "execution_count": null,
   "id": "d8884c3f",
   "metadata": {},
   "outputs": [],
   "source": [
    "#CREATE TRIGGER Course_count\n",
    "#AFTER INSERT ON Course\n",
    "#\tBEGIN\n",
    "#\t\tUPDATE Platform SET Course = Course + 1\tWHERE Platform_ID= NEW.Platform_ID;\n",
    "#\tEND;"
   ]
  },
  {
   "cell_type": "code",
   "execution_count": null,
   "id": "5900cc84",
   "metadata": {},
   "outputs": [],
   "source": []
  },
  {
   "cell_type": "markdown",
   "id": "fc000d9e",
   "metadata": {},
   "source": [
    "# Generating Course table randomly"
   ]
  },
  {
   "cell_type": "code",
   "execution_count": 21,
   "id": "5cf5871b",
   "metadata": {},
   "outputs": [
    {
     "name": "stdout",
     "output_type": "stream",
     "text": [
      "Enter number of rows to be generated:100\n",
      "2022-08-04 12:43:11,764 INFO sqlalchemy.engine.Engine PRAGMA main.table_info(\"Course\")\n",
      "2022-08-04 12:43:11,765 INFO sqlalchemy.engine.Engine [raw sql] ()\n",
      "2022-08-04 12:43:11,767 INFO sqlalchemy.engine.Engine INSERT INTO \"Course\" (\"Course_Name\", \"Course_ID\", \"Platform_ID\", \"Duration\", \"Creation_Date\", \"Tags\", \"Photo\") VALUES (?, ?, ?, ?, ?, ?, ?)\n",
      "2022-08-04 12:43:11,767 INFO sqlalchemy.engine.Engine [generated in 0.00079s] (('Financial controller', 'M003-56-69', 'IK02', '6h 00m', '2022-08-04', 'Relationship at church hair improve offer.', 'https://www.stewart.com/'), ('Designer, television/film set', 'F125-11-18', 'IK03', '3h 45m', '2022-08-04', 'Her war painting couple.', 'https://www.carter.com/'), ('Scientist, marine', 'F756-36-06', 'IK01', '2h', '2022-08-04', 'Respond small work change evening.', 'https://www.garza.com/'), ('Technical sales engineer', 'M269-10-72', 'IK03', '5h 00m', '2022-08-04', 'Ahead various level reduce foreign senior style.', 'https://www.gutierrez.com/'), ('Designer, blown glass/stained glass', 'F581-87-43', 'IK01', '4h 45m', '2022-08-04', 'Art region throughout air provide.', 'https://www.sanchez.com/'), ('Scientist, research (physical sciences)', 'M306-33-63', 'IK01', '6h 00m', '2022-08-04', 'Population throughout happy no put.', 'http://www.phillips.org/'), ('Civil engineer, consulting', 'F859-63-64', 'IK03', '45m', '2022-08-04', 'Partner successful question defense key.', 'https://johnson.com/'), ('Clinical biochemist', 'F507-18-12', 'IK02', '5h 00m', '2022-08-04', 'Later sure politics what according simply.', 'http://taylor.com/')  ... displaying 10 of 100 total bound parameter sets ...  ('Microbiologist', 'F228-31-75', 'IK03', '3h 45m', '2022-08-04', 'If indeed himself for.', 'https://price.com/'), ('Jewellery designer', 'F345-38-12', 'IK01', '1h', '2022-08-04', 'Cut general near study.', 'http://brooks.com/'))\n",
      "2022-08-04 12:43:11,769 INFO sqlalchemy.engine.Engine COMMIT\n",
      "2022-08-04 12:43:11,781 INFO sqlalchemy.engine.Engine SELECT name FROM sqlite_master WHERE type='table' ORDER BY name\n",
      "2022-08-04 12:43:11,781 INFO sqlalchemy.engine.Engine [raw sql] ()\n",
      "Data for courses is successfully Generated and Inserted!\n"
     ]
    }
   ],
   "source": [
    "def courses(no_of_rows,d_now):\n",
    "    fake = Faker()\n",
    "    \n",
    "    df = pd.DataFrame(([fake.profile() for i in range(no_of_rows)]))  #Generating Raw data \n",
    "    df[\"CourseID\"] = df['sex'].astype(str)+ df[\"ssn\"]         #generating course ID by slicing and mixing few columns\n",
    "    df['CourseID'] =df.CourseID.str.slice(0, 10)       #only first time can generate unique course_id's upto 1000's       \n",
    "    df2 = df['CourseID']\n",
    "    df2 = df.iloc[:, [0]]                                      #taking job as Course_Name\n",
    "    plt = []\n",
    "    duration_ = []\n",
    "    u = []\n",
    "    tgs = []\n",
    "    platform = ('IK01','IK02','IK03')\n",
    "    dur = ('2h','4h 45m','6h 00m','3h 45m','5h 00m','4h 00m','45m', '1h')\n",
    "    for i in range(len(df2.job)): \n",
    "        plt.append(random.choice(platform)) \n",
    "        duration_.append(random.choice(dur)) \n",
    "        tgs.append(fake.sentence())       \n",
    "        u.append(fake.url())\n",
    "    d = df2.assign(Course_ID=df['CourseID'], Platform_ID = plt, Duration = duration_,Creation_Date = d_now , Tags = tgs, Photo = u)\n",
    "    df3 = d.rename(columns={'job': 'Course_Name'})         #renaming column\n",
    "    save_db1(df3)\n",
    "    \n",
    "def save_db1(df3):\n",
    "    engine = create_engine('sqlite:///olearn.db', echo=True)\n",
    "    sqlite_connection = engine.connect()\n",
    "\n",
    "    sqlite_table = \"Course\"\n",
    "    df3.to_sql(sqlite_table, sqlite_connection, if_exists='append', index=False)\n",
    "\n",
    "    sqlite_connection.close()\n",
    "    print(\"Data for courses is successfully Generated and Inserted!\")\n",
    "   \n",
    "    \n",
    "x = input('Enter number of rows to be generated:')\n",
    "y = date.today() \n",
    "courses(int(x),y)"
   ]
  },
  {
   "cell_type": "code",
   "execution_count": null,
   "id": "ac4d0826",
   "metadata": {},
   "outputs": [],
   "source": []
  },
  {
   "cell_type": "markdown",
   "id": "eac0fee9",
   "metadata": {},
   "source": [
    "# Generating Employers_Users table randomly"
   ]
  },
  {
   "cell_type": "code",
   "execution_count": 24,
   "id": "8032069c",
   "metadata": {},
   "outputs": [
    {
     "name": "stdout",
     "output_type": "stream",
     "text": [
      "Enter number of rows to be generated:5\n",
      "2022-08-04 16:00:41,325 INFO sqlalchemy.engine.Engine PRAGMA main.table_info(\"Employers_Users\")\n",
      "2022-08-04 16:00:41,326 INFO sqlalchemy.engine.Engine [raw sql] ()\n",
      "2022-08-04 16:00:41,327 INFO sqlalchemy.engine.Engine INSERT INTO \"Employers_Users\" (\"Employer_Number\", \"Username\", \"Level\", \"Creation_date\", \"Password\") VALUES (?, ?, ?, ?, ?)\n",
      "2022-08-04 16:00:41,328 INFO sqlalchemy.engine.Engine [generated in 0.00048s] (('645-05-9995', 'helen48', 'Beginner', '2022-08-04', 'Y0#8G_n2M('), ('894-67-4921', 'janejackson', 'Beginner', '2022-08-04', 'r80ZhLfE*)'), ('164-99-7216', 'greengregory', 'Professional', '2022-08-04', '$u^INxTh86'), ('046-54-2376', 'johnhenry', 'Intermediate', '2022-08-04', 'nU346iOi^a'), ('522-15-9549', 'david28', 'Intermediate', '2022-08-04', 'f+5SmxOcCO'))\n",
      "2022-08-04 16:00:41,328 INFO sqlalchemy.engine.Engine COMMIT\n",
      "2022-08-04 16:00:41,340 INFO sqlalchemy.engine.Engine SELECT name FROM sqlite_master WHERE type='table' ORDER BY name\n",
      "2022-08-04 16:00:41,341 INFO sqlalchemy.engine.Engine [raw sql] ()\n",
      "Data for users is successfully Generated and Inserted!\n"
     ]
    }
   ],
   "source": [
    "def users_table(no_of_rows,dte):\n",
    "    \n",
    "    fake = Faker()\n",
    "    ourDB= pydbgen.pydb()    \n",
    "    df = pd.DataFrame(([fake.profile() for i in range(no_of_rows)]))\n",
    "    df_new = df.iloc[:, [2,7]]    \n",
    "    level = ('Beginner','Intermediate','Professional')    \n",
    "    df_new.loc[:, ('ssn','username')]\n",
    "    df_new = df_new.rename(columns={'ssn': 'Employer_Number','username':'Username'})    \n",
    "    lvl= []\n",
    "    pwd = []\n",
    "    for i in range(len(df_new.Employer_Number)): \n",
    "        lvl.append(random.choice(level))\n",
    "        pwd.append(fake.password())\n",
    "    save_df = df_new.assign(Level= lvl,Creation_date=dte,Password = pwd)\n",
    "    save_db2(save_df)\n",
    "\n",
    "\n",
    "def save_db2(save_df):\n",
    "    \n",
    "    engine = create_engine('sqlite:///olearn.db', echo=True)\n",
    "    sqlite_connection = engine.connect()\n",
    "    \n",
    "    sqlite_table = \"Employers_Users\"\n",
    "    save_df.to_sql(sqlite_table, sqlite_connection, if_exists='append', index=False)\n",
    "    \n",
    "    sqlite_connection.close()\n",
    "    print(\"Data for users is successfully Generated and Inserted!\")\n",
    "\n",
    "no_of_rows = input('Enter number of rows to be generated:')\n",
    "dte = date.today()\n",
    "users_table(int(no_of_rows),dte)\n"
   ]
  },
  {
   "cell_type": "code",
   "execution_count": 17,
   "id": "e43edca0",
   "metadata": {},
   "outputs": [],
   "source": []
  },
  {
   "cell_type": "markdown",
   "id": "09a22b25",
   "metadata": {},
   "source": [
    "\n",
    "# Generating ongoing_training table randomly"
   ]
  },
  {
   "cell_type": "code",
   "execution_count": 18,
   "id": "5639bfc3",
   "metadata": {},
   "outputs": [
    {
     "name": "stdout",
     "output_type": "stream",
     "text": [
      "Enter number of rows to be generated:3\n",
      "2022-08-04 12:35:41,370 INFO sqlalchemy.engine.Engine PRAGMA main.table_info(\"Ongoing_Training\")\n",
      "2022-08-04 12:35:41,371 INFO sqlalchemy.engine.Engine [raw sql] ()\n",
      "2022-08-04 12:35:41,372 INFO sqlalchemy.engine.Engine INSERT INTO \"Ongoing_Training\" (\"Training_ID\", \"User_ID\", \"Course_ID\", \"Status\", \"Completion_Percentage\", \"Start_Date\", \"Finish_Date\", \"Last_Update\") VALUES (?, ?, ?, ?, ?, ?, ?, ?)\n",
      "2022-08-04 12:35:41,373 INFO sqlalchemy.engine.Engine [generated in 0.00057s] (('Plan78-599', 13600, 'M143-52-80', 'Pending', '60%', '2018-07-21', '2021-06-28', '2022-06-17'), ('Engi18-886', 13591, 'M327-18-42', 'Completed', '9%', '2018-03-12', '2021-01-06', '2022-06-01'), ('Poli95-263', 13559, 'F453-90-30', 'Completed', '60%', '2017-06-24', '2021-03-25', '2022-03-05'))\n",
      "2022-08-04 12:35:41,374 INFO sqlalchemy.engine.Engine COMMIT\n",
      "2022-08-04 12:35:41,385 INFO sqlalchemy.engine.Engine SELECT name FROM sqlite_master WHERE type='table' ORDER BY name\n",
      "2022-08-04 12:35:41,386 INFO sqlalchemy.engine.Engine [raw sql] ()\n",
      "Ongoing Training Data successfully Generated and Inserted!\n"
     ]
    }
   ],
   "source": [
    "\n",
    "def ongoing_training(no_of_rows):\n",
    "    fake = Faker()\n",
    "    df = pd.DataFrame(([fake.profile() for i in range(no_of_rows)]))  #Generating Raw data  \n",
    "    df['job'] = df.job.str.slice(0, 4)\n",
    "    df['ssn'] = df.ssn.str.slice(4, 10)\n",
    "    df['Training_ID']= df['job'].astype(str)+ df['ssn']         #generating Training ID by slicing and mixing few columns     \n",
    "    df = df.iloc[:, [13]]\n",
    "\n",
    "    # Create a SQL connection to our SQLite database\n",
    "    con = sqlite3.connect('olearn.db')\n",
    "    cur = con.cursor()\n",
    "    CourseID = []\n",
    "    UserID = []\n",
    "\n",
    "    for row in cur.execute('SELECT Course_ID FROM Course;'):\n",
    "        CourseID.append(row)               #Fetching Course ID from User's tabel\n",
    "    for row1 in cur.execute('SELECT User_ID FROM Employers_Users;'):\n",
    "        UserID.append(row1)                #Fetching User ID from User's tabel\n",
    "\n",
    "    CourseID = [item for t in CourseID for item in t]     #converting list of tuples into LIST\n",
    "    UserID = [item for t in UserID for item in t]        #converting list of tuples into LIST\n",
    "\n",
    "    status = ('Completed','Pending')\n",
    "    completion_per = ('9%','60%','87%','30%','22%','3%','100%','60%')\n",
    "    start_date = []\n",
    "    comp_date  = []\n",
    "    last_up = []\n",
    "    userid_rand = []\n",
    "    course_rand = []\n",
    "    comp_per_rand = []\n",
    "    status_rand = []\n",
    "\n",
    "    for i in range(no_of_rows):\n",
    "        start_date.append(fake.date_between_dates(date_start=datetime(2016,1,1), date_end=datetime(2018,12,31)))\n",
    "        comp_date.append(fake.date_between_dates(date_start=datetime(2019,5,1), date_end=datetime(2021,12,31)))\n",
    "        last_up.append(fake.date_between_dates(date_start=datetime(2021,12,31), date_end='now'))\n",
    "        userid_rand.append(random.choice(UserID)) \n",
    "        course_rand.append(random.choice(CourseID))\n",
    "        comp_per_rand.append(random.choice(completion_per))\n",
    "        status_rand.append(random.choice(status))\n",
    "\n",
    "    final_df = df.assign(User_ID = userid_rand, Course_ID = course_rand, Status = status_rand , \n",
    "    Completion_Percentage = comp_per_rand, Start_Date = start_date, Finish_Date = comp_date, Last_Update = last_up)\n",
    "    save_db3(final_df)\n",
    "\n",
    "def save_db3(final_df): \n",
    "    engine = create_engine('sqlite:///olearn.db', echo=True)\n",
    "    sqlite_connection = engine.connect()\n",
    "\n",
    "    sqlite_table = \"Ongoing_Training\"\n",
    "    final_df.to_sql(sqlite_table, sqlite_connection, if_exists='append', index=False)\n",
    "\n",
    "    sqlite_connection.close()\n",
    "    print(\"Ongoing Training Data successfully Generated and Inserted!\")    \n",
    "    \n",
    "\n",
    "no_of_rows = input('Enter number of rows to be generated:')\n",
    "ongoing_training(int(no_of_rows))\n"
   ]
  },
  {
   "cell_type": "code",
   "execution_count": null,
   "id": "a37ab47d",
   "metadata": {},
   "outputs": [],
   "source": []
  },
  {
   "cell_type": "markdown",
   "id": "f8f76db5",
   "metadata": {},
   "source": [
    "# Generating Certification table randomly"
   ]
  },
  {
   "cell_type": "code",
   "execution_count": 20,
   "id": "9a50a9ce",
   "metadata": {},
   "outputs": [
    {
     "name": "stdout",
     "output_type": "stream",
     "text": [
      "Enter number of rows to be generated:5\n",
      "2022-08-04 12:38:00,449 INFO sqlalchemy.engine.Engine PRAGMA main.table_info(\"certification_ID\")\n",
      "2022-08-04 12:38:00,449 INFO sqlalchemy.engine.Engine [raw sql] ()\n",
      "2022-08-04 12:38:00,450 INFO sqlalchemy.engine.Engine INSERT INTO \"certification_ID\" (\"Certification_ID\", \"User_ID\", \"Course_ID\", \"Completion_Duration\", \"Completion_Date\") VALUES (?, ?, ?, ?, ?)\n",
      "2022-08-04 12:38:00,451 INFO sqlalchemy.engine.Engine [generated in 0.00041s] (('Pr-34-504', 13610, 'F646-66-81', '629days', '2022-08-01'), ('Le-92-010', 13559, 'M532-53-50', '365days', '2022-05-05'), ('Ho-22-613', 13589, 'F064-12-28', '301days', '2022-06-19'), ('Ha-81-153', 13554, 'M549-62-35', '301days', '2022-01-26'), ('En-24-773', 13590, 'F631-47-88', '301days', '2022-05-06'))\n",
      "2022-08-04 12:38:00,451 INFO sqlalchemy.engine.Engine COMMIT\n",
      "2022-08-04 12:38:00,463 INFO sqlalchemy.engine.Engine SELECT name FROM sqlite_master WHERE type='table' ORDER BY name\n",
      "2022-08-04 12:38:00,463 INFO sqlalchemy.engine.Engine [raw sql] ()\n",
      "Certification Data successfully Generated and Inserted!\n"
     ]
    }
   ],
   "source": [
    "\n",
    "def certificates(no_of_rows):\n",
    "    fake = Faker()\n",
    "    df = pd.DataFrame(([fake.profile() for i in range(no_of_rows)]))  #Generating Raw data  \n",
    "    df['job'] = df.job.str.slice(0, 2)\n",
    "    df['ssn'] = df.ssn.str.slice(3, 10)\n",
    "    df['Certification_ID']= df['job'].astype(str)+ df['ssn']         #generating Training ID by slicing and mixing few columns     \n",
    "    df = df.iloc[:, [13]]\n",
    "\n",
    "    # Create a SQL connection to our SQLite database\n",
    "    con = sqlite3.connect('olearn.db')\n",
    "    cur = con.cursor()\n",
    "    CourseID = []\n",
    "    UserID = []\n",
    "\n",
    "\n",
    "    for row in cur.execute('SELECT Course_ID FROM Course;'):\n",
    "        CourseID.append(row)               #Fetching Course ID from User's tabel\n",
    "    for row1 in cur.execute('SELECT User_ID FROM Employers_Users;'):\n",
    "        UserID.append(row1)                #Fetching User ID from User's tabel  \n",
    "\n",
    "    CourseID = [item for t in CourseID for item in t]     #converting list of tuples into LIST\n",
    "    UserID = [item for t in UserID for item in t]        #converting list of tuples into LIST\n",
    "\n",
    "    completion_dur = ('400days','610days','365days','589days','458days','301days','629days','702das')\n",
    "    comp_date  = []       \n",
    "    userid_rand = []\n",
    "    course_rand = []\n",
    "    comp_dur_rand = []\n",
    "\n",
    "\n",
    "    for i in range(no_of_rows):\n",
    "        comp_date.append(fake.date_between_dates(date_start=datetime(2021,12,31), date_end='now'))\n",
    "        userid_rand.append(random.choice(UserID)) \n",
    "        course_rand.append(random.choice(CourseID))\n",
    "        comp_dur_rand.append(random.choice(completion_dur))\n",
    "\n",
    "    final_df_ = df.assign(User_ID = userid_rand, Course_ID = course_rand, Completion_Duration = comp_dur_rand, \n",
    "    Completion_Date = comp_date)\n",
    "    save_db4(final_df_)\n",
    "\n",
    "\n",
    "def save_db4(final_df_):\n",
    "\n",
    "    engine = create_engine('sqlite:///olearn.db', echo=True)\n",
    "    sqlite_connection = engine.connect()\n",
    "\n",
    "    sqlite_table = \"certification_ID\"\n",
    "    final_df_.to_sql(sqlite_table, sqlite_connection, if_exists='append', index=False)\n",
    "\n",
    "    sqlite_connection.close()\n",
    "    print(\"Certification Data successfully Generated and Inserted!\")    \n",
    "\n",
    "    \n",
    "no_of_rows = input('Enter number of rows to be generated:')\n",
    "certificates(int(no_of_rows))"
   ]
  },
  {
   "cell_type": "code",
   "execution_count": null,
   "id": "8791e2ef",
   "metadata": {},
   "outputs": [],
   "source": []
  },
  {
   "cell_type": "markdown",
   "id": "88c492b2",
   "metadata": {},
   "source": [
    "# Generating Review table randomly & LIKE/DISLIKE column with Trigger based on some condition to make data meaningful"
   ]
  },
  {
   "cell_type": "code",
   "execution_count": 16,
   "id": "9c5f4c7d",
   "metadata": {},
   "outputs": [
    {
     "name": "stdout",
     "output_type": "stream",
     "text": [
      "Enter number of rows to be generated:5\n",
      "2022-08-04 12:32:09,229 INFO sqlalchemy.engine.Engine PRAGMA main.table_info(\"Review\")\n",
      "2022-08-04 12:32:09,229 INFO sqlalchemy.engine.Engine [raw sql] ()\n",
      "2022-08-04 12:32:09,231 INFO sqlalchemy.engine.Engine INSERT INTO \"Review\" (\"User_ID\", \"Course_ID\", \"Feedback\", \"Ranking_Score\") VALUES (?, ?, ?, ?)\n",
      "2022-08-04 12:32:09,232 INFO sqlalchemy.engine.Engine [generated in 0.00068s] ((13591, 'M148-33-59', 'Obsolete!', '1'), (13576, 'M441-16-17', 'Somehow Satisfied', '3'), (13550, 'F716-97-00', 'Needs Improvement!', '2'), (13588, 'M564-46-15', 'Obsolete!', '1'), (13589, 'F324-47-03', 'Somehow Satisfied', '3'))\n",
      "2022-08-04 12:32:09,232 INFO sqlalchemy.engine.Engine COMMIT\n",
      "2022-08-04 12:32:09,244 INFO sqlalchemy.engine.Engine SELECT name FROM sqlite_master WHERE type='table' ORDER BY name\n",
      "2022-08-04 12:32:09,245 INFO sqlalchemy.engine.Engine [raw sql] ()\n",
      "Reviews Data successfully Generated and Inserted!\n"
     ]
    }
   ],
   "source": [
    "\n",
    "def Reviews(no_of_rows):     \n",
    "    fake = Faker()\n",
    "\n",
    "    # Create a SQL connection to our SQLite database\n",
    "    con = sqlite3.connect('olearn.db')\n",
    "    cur = con.cursor()\n",
    "    CourseID = []\n",
    "    UserID = []\n",
    "\n",
    "\n",
    "    for row in cur.execute('SELECT Course_ID FROM Course;'):\n",
    "        CourseID.append(row)               #Fetching Course ID from User's tabel\n",
    "    for row1 in cur.execute('SELECT User_ID FROM Employers_Users;'):\n",
    "        UserID.append(row1)                #Fetching User ID from User's tabel  \n",
    "    con.close()\n",
    "    CourseID = [item for t in CourseID for item in t]     #converting list of tuples into LIST\n",
    "    UserID = [item for t in UserID for item in t]        #converting list of tuples into LIST\n",
    "\n",
    "    feedbk = ('Satisfied','Very Satisfied','Somehow Satisfied','Needs Improvement!','Obsolete!')\n",
    "\n",
    "    ranking = ('1','2','3','4','5')\n",
    "\n",
    "    userid_rand = []\n",
    "    course_rand = []\n",
    "    feedbk_rand = []\n",
    "    ranking_rand = []\n",
    "    inp_feedbk = []\n",
    "\n",
    "    for i in range(no_of_rows):\n",
    "\n",
    "        userid_rand.append(random.choice(UserID)) \n",
    "        course_rand.append(random.choice(CourseID))\n",
    "        inp_feedbk = random.choice(feedbk)\n",
    "        feedbk_rand.append(inp_feedbk)    \n",
    "        #ranking_rand.append(random.choice(ranking))\n",
    "        if inp_feedbk == 'Obsolete!':\n",
    "            ranking_rand.append('1')\n",
    "        elif inp_feedbk == 'Needs Improvement!':\n",
    "            ranking_rand.append('2')\n",
    "        elif inp_feedbk == 'Somehow Satisfied':\n",
    "            ranking_rand.append('3')\n",
    "        elif inp_feedbk == 'Satisfied':\n",
    "            ranking_rand.append('4')\n",
    "        else: #random.choice(feedbk) == 'Very Satisfied':\n",
    "            ranking_rand.append('5')\n",
    "    #print(ranking_rand)\n",
    "    df = pd.DataFrame()\n",
    "    final_dff = df.assign(User_ID = userid_rand, Course_ID = course_rand, Feedback = feedbk_rand, \n",
    "    Ranking_Score = ranking_rand)\n",
    "    db_save_5(final_dff)\n",
    "\n",
    "    \n",
    "def db_save_5(final_dff):\n",
    "    engine = create_engine('sqlite:///olearn.db', echo=True)\n",
    "    sqlite_connection = engine.connect()\n",
    "\n",
    "    sqlite_table = \"Review\"\n",
    "    final_dff.to_sql(sqlite_table, sqlite_connection, if_exists='append', index=False)\n",
    "\n",
    "    sqlite_connection.close()\n",
    "    print(\"Reviews Data successfully Generated and Inserted!\")    \n",
    "\n",
    "    \n",
    "no_of_rows = input('Enter number of rows to be generated:')\n",
    "Reviews(int(no_of_rows))\n"
   ]
  },
  {
   "cell_type": "markdown",
   "id": "3cd035c0",
   "metadata": {},
   "source": [
    "# Query for Creating Trigger which gives LIKE?DISLIKE based on FEEDBACK column"
   ]
  },
  {
   "cell_type": "code",
   "execution_count": null,
   "id": "d370128e",
   "metadata": {},
   "outputs": [],
   "source": [
    "# --FOR Review CREATING TRIGGER -> Like/Dislike\n",
    " \n",
    "#CREATE TRIGGER dislike_\n",
    "#AFTER INSERT ON Review\n",
    "#\tBEGIN\n",
    "#\t\t UPDATE Review SET Like_Dislike = \"Dislike\" WHERE Feedback LIKE \"%!\";\n",
    "#\tEND;\n",
    "\n",
    "#CREATE TRIGGER like_\n",
    "#AFTER INSERT ON Review\n",
    "#\tBEGIN\n",
    "#\t\t UPDATE Review SET Like_Dislike = \"Like\" WHERE Feedback LIKE \"%Satisfied%\";\n",
    "#\tEND;\n"
   ]
  },
  {
   "cell_type": "code",
   "execution_count": null,
   "id": "c8899663",
   "metadata": {},
   "outputs": [],
   "source": []
  },
  {
   "cell_type": "markdown",
   "id": "3e62a692",
   "metadata": {},
   "source": [
    "# Generating Pictures table ->COURSE_ID & Platform_ID with the help of trigger"
   ]
  },
  {
   "cell_type": "code",
   "execution_count": null,
   "id": "794ecbc4",
   "metadata": {},
   "outputs": [],
   "source": [
    "\n",
    "#CREATE TRIGGER picture_tab\n",
    "#AFTER INSERT ON Course\n",
    "#\tBEGIN\n",
    "#\t\t INSERT INTO Pictures (Course_ID, Platform_ID) VALUES (NEW.Course_ID, NEW.Platform_ID);\n",
    "#\tEND;"
   ]
  },
  {
   "cell_type": "code",
   "execution_count": null,
   "id": "6eefaba2",
   "metadata": {},
   "outputs": [],
   "source": []
  }
 ],
 "metadata": {
  "kernelspec": {
   "display_name": "Python 3 (ipykernel)",
   "language": "python",
   "name": "python3"
  },
  "language_info": {
   "codemirror_mode": {
    "name": "ipython",
    "version": 3
   },
   "file_extension": ".py",
   "mimetype": "text/x-python",
   "name": "python",
   "nbconvert_exporter": "python",
   "pygments_lexer": "ipython3",
   "version": "3.10.3"
  }
 },
 "nbformat": 4,
 "nbformat_minor": 5
}
